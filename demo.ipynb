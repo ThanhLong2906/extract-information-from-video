{
 "cells": [
  {
   "cell_type": "code",
   "execution_count": 1,
   "metadata": {},
   "outputs": [
    {
     "name": "stderr",
     "output_type": "stream",
     "text": [
      "Detect: 0it [00:00, ?it/s]\n",
      "Embedding: 0it [00:00, ?it/s]\n"
     ]
    },
    {
     "ename": "ValueError",
     "evalue": "need at least one array to concatenate",
     "output_type": "error",
     "traceback": [
      "\u001b[1;31m---------------------------------------------------------------------------\u001b[0m",
      "\u001b[1;31mValueError\u001b[0m                                Traceback (most recent call last)",
      "\u001b[1;32mc:\\Users\\MyPC\\GhostFaceNets\\demo.ipynb Cell 1\u001b[0m line \u001b[0;36m2\n\u001b[0;32m      <a href='vscode-notebook-cell:/c%3A/Users/MyPC/GhostFaceNets/demo.ipynb#W0sZmlsZQ%3D%3D?line=0'>1</a>\u001b[0m \u001b[39mfrom\u001b[39;00m \u001b[39mvideo_test\u001b[39;00m \u001b[39mimport\u001b[39;00m embedding_images\n\u001b[1;32m----> <a href='vscode-notebook-cell:/c%3A/Users/MyPC/GhostFaceNets/demo.ipynb#W0sZmlsZQ%3D%3D?line=1'>2</a>\u001b[0m image_classes, embeddings, _ \u001b[39m=\u001b[39m embedding_images(det\u001b[39m=\u001b[39;49m\u001b[39m\"\u001b[39;49m\u001b[39m./det\u001b[39;49m\u001b[39m\"\u001b[39;49m, face_model\u001b[39m=\u001b[39;49m\u001b[39m\"\u001b[39;49m\u001b[39m./models\u001b[39;49m\u001b[39m\"\u001b[39;49m, known_user\u001b[39m=\u001b[39;49m\u001b[39m\"\u001b[39;49m\u001b[39m./known_user\u001b[39;49m\u001b[39m\"\u001b[39;49m)\n\u001b[0;32m      <a href='vscode-notebook-cell:/c%3A/Users/MyPC/GhostFaceNets/demo.ipynb#W0sZmlsZQ%3D%3D?line=2'>3</a>\u001b[0m embeddings\n",
      "File \u001b[1;32mc:\\Users\\MyPC\\GhostFaceNets\\video_test.py:86\u001b[0m, in \u001b[0;36membedding_images\u001b[1;34m(det, face_model, known_user, batch_size, force_reload)\u001b[0m\n\u001b[0;32m     83\u001b[0m nimgs \u001b[39m=\u001b[39m (np\u001b[39m.\u001b[39marray(nimgs) \u001b[39m-\u001b[39m \u001b[39m127.5\u001b[39m) \u001b[39m*\u001b[39m \u001b[39m0.0078125\u001b[39m\n\u001b[0;32m     84\u001b[0m embeddings \u001b[39m=\u001b[39m [face_model(nimgs[ii \u001b[39m*\u001b[39m batch_size : (ii \u001b[39m+\u001b[39m \u001b[39m1\u001b[39m) \u001b[39m*\u001b[39m batch_size]) \u001b[39mfor\u001b[39;00m ii \u001b[39min\u001b[39;00m tqdm(\u001b[39mrange\u001b[39m(steps), \u001b[39m\"\u001b[39m\u001b[39mEmbedding\u001b[39m\u001b[39m\"\u001b[39m)]\n\u001b[1;32m---> 86\u001b[0m embeddings \u001b[39m=\u001b[39m normalize(np\u001b[39m.\u001b[39;49mconcatenate(embeddings, axis\u001b[39m=\u001b[39;49m\u001b[39m0\u001b[39;49m))\n\u001b[0;32m     87\u001b[0m image_classes \u001b[39m=\u001b[39m np\u001b[39m.\u001b[39marray(image_classes)\n\u001b[0;32m     88\u001b[0m np\u001b[39m.\u001b[39msavez_compressed(dest_pickle, embeddings\u001b[39m=\u001b[39membeddings, image_classes\u001b[39m=\u001b[39mimage_classes)\n",
      "File \u001b[1;32m<__array_function__ internals>:200\u001b[0m, in \u001b[0;36mconcatenate\u001b[1;34m(*args, **kwargs)\u001b[0m\n",
      "\u001b[1;31mValueError\u001b[0m: need at least one array to concatenate"
     ]
    }
   ],
   "source": [
    "from video_test import embedding_images\n",
    "image_classes, embeddings, _ = embedding_images(det=\"./det\", face_model=\"./models\", known_user=\"./known_user\")\n",
    "embeddings"
   ]
  },
  {
   "cell_type": "code",
   "execution_count": null,
   "metadata": {},
   "outputs": [],
   "source": []
  }
 ],
 "metadata": {
  "kernelspec": {
   "display_name": "IR",
   "language": "python",
   "name": "python3"
  },
  "language_info": {
   "codemirror_mode": {
    "name": "ipython",
    "version": 3
   },
   "file_extension": ".py",
   "mimetype": "text/x-python",
   "name": "python",
   "nbconvert_exporter": "python",
   "pygments_lexer": "ipython3",
   "version": "3.9.16"
  }
 },
 "nbformat": 4,
 "nbformat_minor": 2
}
