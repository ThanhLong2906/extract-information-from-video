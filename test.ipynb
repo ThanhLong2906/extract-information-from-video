{
 "cells": [
  {
   "cell_type": "code",
   "execution_count": 1,
   "metadata": {},
   "outputs": [
    {
     "ename": "",
     "evalue": "",
     "output_type": "error",
     "traceback": [
      "\u001b[1;31mThe Kernel crashed while executing code in the the current cell or a previous cell. Please review the code in the cell(s) to identify a possible cause of the failure. Click <a href='https://aka.ms/vscodeJupyterKernelCrash'>here</a> for more info. View Jupyter <a href='command:jupyter.viewOutput'>log</a> for further details."
     ]
    }
   ],
   "source": [
    "import cv2\n",
    "video_path = \"./video/thuy_minh_3.mp4\"\n",
    "cap = cv2.VideoCapture(video_path)\n",
    "cur_frame_idx = 0\n",
    "while True:\n",
    "    ret, frame = cap.read()\n",
    "    if ret == True:\n",
    "        cv2.imshow(\"thuy_minh\", frame)\n",
    "        if cur_frame_idx == 0:\n",
    "            cv2.imwrite(\"./video/thuy_minh.jpg\", frame)\n",
    "        if cv2.waitKey(25) & 0xFF == ord('q'): \n",
    "            break\n",
    "        cur_frame_idx+=1\n"
   ]
  },
  {
   "cell_type": "code",
   "execution_count": 1,
   "metadata": {},
   "outputs": [],
   "source": [
    "import moviepy.editor \n",
    "\n",
    "Video_path = \"D:/video/fly-me-to-the-moon-MCK.mp4\"\n",
    "output_path = \"audio/fly-me-to-the-moon-MCK.wav\"\n",
    "video = moviepy.editor.VideoFileClip(Video_path).subclip(start_time, end_time)\n",
    "audio = video.audio\n",
    "audio.write_audiofile(output_path)"
   ]
  },
  {
   "cell_type": "code",
   "execution_count": 8,
   "metadata": {},
   "outputs": [
    {
     "name": "stdout",
     "output_type": "stream",
     "text": [
      "text from audio: fly me to the movie about the World Cup soccer\n"
     ]
    }
   ],
   "source": [
    "\n",
    "import speech_recognition as sr\n",
    "r = sr.Recognizer()\n",
    "with sr.AudioFile(output_path) as source:\n",
    "    data = r.record(source)\n",
    "text = r.recognize_google(data)\n",
    "print(f\"text from audio: {text}\")"
   ]
  },
  {
   "cell_type": "code",
   "execution_count": 21,
   "metadata": {},
   "outputs": [],
   "source": [
    "import os\n",
    "def subGen_path(file_path, model='medium', language='', translate=False):\n",
    "  \"\"\"\n",
    "  Input audio file path to generate the text caption \n",
    "  Args:\n",
    "      file_path (:obj:`str`, required): Eg: \"/content/sample_recording.mp3\"\n",
    "      model (:obj:`str`, optional): choose 1 of 3 options: 'base', 'medium', 'large'. Default value = 'medium'\n",
    "      language (:obj:`str`, optional): Target language of the audio file to be generated caption. Auto detects language by default.\n",
    "      translate (:obj:`str`, optional): Translate caption to English. No translation by default.\n",
    "  \"\"\"\n",
    "  if language == '':\n",
    "    if translate == False:\n",
    "      os.system('whisper \"{}\" --model {}'.format(file_path, model))\n",
    "    else:\n",
    "      os.system('whisper \"{}\" --model {} --task translate'.format(file_path, model))\n",
    "  else:\n",
    "    if translate == False:\n",
    "      os.system('whisper \"{}\" --model {} --language {}'.format(file_path, model, language))\n",
    "    else:\n",
    "      os.system('whisper \"{}\" --model {} --language {} --task translate'.format(file_path, model, language))"
   ]
  },
  {
   "cell_type": "code",
   "execution_count": 25,
   "metadata": {},
   "outputs": [
    {
     "name": "stderr",
     "output_type": "stream",
     "text": [
      "usage: ipykernel_launcher.py [-h] [--config CONFIG] [--snapshot SNAPSHOT]\n",
      "                             [--video_name VIDEO_NAME]\n",
      "ipykernel_launcher.py: error: unrecognized arguments: --ip=127.0.0.1 --stdin=9016 --control=9014 --hb=9013 --Session.signature_scheme=\"hmac-sha256\" --Session.key=b\"97217c32-2817-4cb9-aaac-3b7cb2922df8\" --shell=9015 --transport=\"tcp\" --iopub=9017 --f=c:\\Users\\MyPC\\AppData\\Roaming\\jupyter\\runtime\\kernel-v2-5620eMLirAbqIxnI.json\n"
     ]
    },
    {
     "ename": "SystemExit",
     "evalue": "2",
     "output_type": "error",
     "traceback": [
      "An exception has occurred, use %tb to see the full traceback.\n",
      "\u001b[1;31mSystemExit\u001b[0m\u001b[1;31m:\u001b[0m 2\n"
     ]
    }
   ],
   "source": [
    "from combine import speech2text\n",
    "text = speech2text(\"target/video_1.wav\")\n",
    "text"
   ]
  },
  {
   "cell_type": "code",
   "execution_count": 24,
   "metadata": {},
   "outputs": [],
   "source": [
    "from ur_audio_sub import *\n",
    "subGen_path(\"audio/fly-me-to-the-moon-MCK.wav\")"
   ]
  },
  {
   "cell_type": "code",
   "execution_count": null,
   "metadata": {},
   "outputs": [],
   "source": [
    "import cv2\n",
    "\n",
    "cap = cv2.VideoCapture('video/2_eminem_cut.mp4')\n",
    "fps = cap.get(cv2.CAP_PROP_FPS)\n",
    "\n",
    "timestamps = [cap.get(cv2.CAP_PROP_POS_MSEC)]\n",
    "calc_timestamps = [0.0]\n",
    "\n",
    "while(cap.isOpened()):\n",
    "    frame_exists, curr_frame = cap.read()\n",
    "    if frame_exists:\n",
    "        timestamps.append(cap.get(cv2.CAP_PROP_POS_MSEC))\n",
    "        calc_timestamps.append(calc_timestamps[-1] + 1000/fps)\n",
    "    else:\n",
    "        break\n",
    "\n",
    "cap.release()\n",
    "\n",
    "for i, (ts, cts) in enumerate(zip(timestamps, calc_timestamps)):\n",
    "    print('Frame %d difference:'%i, abs(ts - cts))"
   ]
  },
  {
   "cell_type": "code",
   "execution_count": 18,
   "metadata": {},
   "outputs": [
    {
     "data": {
      "text/plain": [
       "5.588916666666667"
      ]
     },
     "execution_count": 18,
     "metadata": {},
     "output_type": "execute_result"
    }
   ],
   "source": [
    "import cv2\n",
    "cap = cv2.VideoCapture(\"video/hayley_william.mp4\")\n",
    "fps = cap.get(cv2.CAP_PROP_FPS)\n",
    "# while cap.isOpened():\n",
    "#     ret, frame = cap.read()\n",
    "#     if ret:\n",
    "#         timestamps = [cap.get(cv2.CAP_PROP_POS_MSEC)]\n",
    "        \n",
    "#         timestamps\n",
    "sec = (1/fps)*134\n",
    "sec"
   ]
  },
  {
   "cell_type": "code",
   "execution_count": null,
   "metadata": {},
   "outputs": [],
   "source": [
    "from moviepy.video.io.ffmpeg_tools import ffmpeg_extract_subclip\n",
    "ffmpeg_extract_subclip(\"video1.mp4\", start_time, end_time, targetname=\"test.mp4\")"
   ]
  },
  {
   "cell_type": "code",
   "execution_count": 11,
   "metadata": {},
   "outputs": [
    {
     "name": "stderr",
     "output_type": "stream",
     "text": [
      "usage: ipykernel_launcher.py [-h] [--config CONFIG] [--snapshot SNAPSHOT]\n",
      "                             [--video_name VIDEO_NAME]\n",
      "ipykernel_launcher.py: error: unrecognized arguments: --ip=127.0.0.1 --stdin=9016 --control=9014 --hb=9013 --Session.signature_scheme=\"hmac-sha256\" --Session.key=b\"97217c32-2817-4cb9-aaac-3b7cb2922df8\" --shell=9015 --transport=\"tcp\" --iopub=9017 --f=c:\\Users\\MyPC\\AppData\\Roaming\\jupyter\\runtime\\kernel-v2-5620eMLirAbqIxnI.json\n"
     ]
    },
    {
     "ename": "SystemExit",
     "evalue": "2",
     "output_type": "error",
     "traceback": [
      "An exception has occurred, use %tb to see the full traceback.\n",
      "\u001b[1;31mSystemExit\u001b[0m\u001b[1;31m:\u001b[0m 2\n"
     ]
    },
    {
     "name": "stderr",
     "output_type": "stream",
     "text": [
      "c:\\Users\\MyPC\\anaconda3\\envs\\IEV\\lib\\site-packages\\IPython\\core\\interactiveshell.py:3534: UserWarning: To exit: use 'exit', 'quit', or Ctrl-D.\n",
      "  warn(\"To exit: use 'exit', 'quit', or Ctrl-D.\", stacklevel=1)\n"
     ]
    }
   ],
   "source": [
    "from combine import get_fps\n",
    "a = get_fps(\"video/hayley_william.mp4\")\n",
    "a"
   ]
  },
  {
   "cell_type": "code",
   "execution_count": null,
   "metadata": {},
   "outputs": [],
   "source": []
  }
 ],
 "metadata": {
  "kernelspec": {
   "display_name": "EI",
   "language": "python",
   "name": "python3"
  },
  "language_info": {
   "codemirror_mode": {
    "name": "ipython",
    "version": 3
   },
   "file_extension": ".py",
   "mimetype": "text/x-python",
   "name": "python",
   "nbconvert_exporter": "python",
   "pygments_lexer": "ipython3",
   "version": "3.9.0"
  }
 },
 "nbformat": 4,
 "nbformat_minor": 2
}
