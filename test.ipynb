{
 "cells": [
  {
   "cell_type": "code",
   "execution_count": null,
   "metadata": {},
   "outputs": [],
   "source": [
    "#https://librosa.org/doc/main/generated/librosa.resample.html"
   ]
  },
  {
   "cell_type": "code",
   "execution_count": 16,
   "metadata": {},
   "outputs": [],
   "source": [
    "# import soundfile as sf\n",
    "\n",
    "# sr = 16000\n",
    "# signal, samplerate = sf.read(datafile)#, channels=1, samplerate=sr)\n",
    "# sf.write('./input_data/new_file.wav', signal, samplerate=sr)\n"
   ]
  },
  {
   "cell_type": "code",
   "execution_count": 30,
   "metadata": {},
   "outputs": [
    {
     "data": {
      "text/plain": [
       "((2, 11827091), 22050)"
      ]
     },
     "execution_count": 30,
     "metadata": {},
     "output_type": "execute_result"
    },
    {
     "ename": "",
     "evalue": "",
     "output_type": "error",
     "traceback": [
      "\u001b[1;31mThe Kernel crashed while executing code in the the current cell or a previous cell. Please review the code in the cell(s) to identify a possible cause of the failure. Click <a href='https://aka.ms/vscodeJupyterKernelCrash'>here</a> for more info. View Jupyter <a href='command:jupyter.viewOutput'>log</a> for further details."
     ]
    }
   ],
   "source": [
    "import librosa\n",
    "import soundfile as sf\n",
    "\n",
    "# load soundfile\n",
    "datafile = \"../Downloads/interview.mp3\"\n",
    "y, sr = librosa.load(datafile, mono=False)\n",
    "y.shape, sr\n",
    "\n",
    "# convert from stereo to mono\n",
    "if len(y.shape) != 1:\n",
    "    y = librosa.to_mono(y)\n",
    "    y.shape\n",
    "    \n",
    "# resample \n",
    "if sr != 16000:\n",
    "    y = librosa.resample(y, orig_sr = sr, target_sr=16000)\n",
    "\n",
    "# volumn up factor time\n",
    "factor = 2\n",
    "y = y * factor\n",
    "\n",
    "# write new audio file\n",
    "sf.write(\"./input_data/princess_16k.wav\", y, \n",
    "        16000, 'PCM_24')"
   ]
  },
  {
   "cell_type": "code",
   "execution_count": 28,
   "metadata": {},
   "outputs": [
    {
     "data": {
      "text/plain": [
       "('./input_data/TPM', '.wav')"
      ]
     },
     "execution_count": 28,
     "metadata": {},
     "output_type": "execute_result"
    }
   ],
   "source": [
    "import os\n",
    "str = \"./input_data/TPM.wav\"\n",
    "os.path.splitext(str)"
   ]
  },
  {
   "cell_type": "code",
   "execution_count": 21,
   "metadata": {},
   "outputs": [
    {
     "data": {
      "text/plain": [
       "2"
      ]
     },
     "execution_count": 21,
     "metadata": {},
     "output_type": "execute_result"
    }
   ],
   "source": [
    "datafile = \"./input_data/princesschubin.wav\"\n",
    "y, sr = librosa.load(datafile, mono=False)\n",
    "len(y.shape)\n"
   ]
  }
 ],
 "metadata": {
  "kernelspec": {
   "display_name": "AI",
   "language": "python",
   "name": "python3"
  },
  "language_info": {
   "codemirror_mode": {
    "name": "ipython",
    "version": 3
   },
   "file_extension": ".py",
   "mimetype": "text/x-python",
   "name": "python",
   "nbconvert_exporter": "python",
   "pygments_lexer": "ipython3",
   "version": "3.10.12"
  }
 },
 "nbformat": 4,
 "nbformat_minor": 2
}
