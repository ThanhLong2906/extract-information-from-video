{
 "cells": [
  {
   "cell_type": "code",
   "execution_count": 13,
   "metadata": {},
   "outputs": [],
   "source": [
    "import pickle as pkl\n",
    "voice=pkl.load(open(\"/home/long/NeMo/oracle_vad/speaker_outputs/embeddings/voice2_segment_embeddings.pkl\", \"rb\"))['voice2']\n",
    "TPM=pkl.load(open(\"/home/long/NeMo/oracle_vad/speaker_outputs/embeddings/TPM_segment_embeddings.pkl\", \"rb\"))['TPM']"
   ]
  },
  {
   "cell_type": "code",
   "execution_count": 14,
   "metadata": {},
   "outputs": [
    {
     "data": {
      "text/plain": [
       "tensor([0.1640])"
      ]
     },
     "execution_count": 14,
     "metadata": {},
     "output_type": "execute_result"
    }
   ],
   "source": [
    "import torch \n",
    "cos = torch.nn.CosineSimilarity()\n",
    "result = cos(voice, TPM)\n",
    "result"
   ]
  },
  {
   "cell_type": "code",
   "execution_count": 2,
   "metadata": {},
   "outputs": [
    {
     "data": {
      "text/plain": [
       "22.826666666666668"
      ]
     },
     "execution_count": 2,
     "metadata": {},
     "output_type": "execute_result"
    }
   ],
   "source": [
    "from embedding_sound_cp import get_length_from_sound_file\n",
    "a = get_length_from_sound_file(\"./input_data/phone.wav\")\n",
    "a"
   ]
  },
  {
   "cell_type": "code",
   "execution_count": 15,
   "metadata": {},
   "outputs": [
    {
     "data": {
      "text/plain": [
       "tensor([[-3.3108e-02, -3.9584e-03,  3.6996e-03,  3.0853e-02, -3.3530e-02,\n",
       "         -1.2187e-03, -3.1310e-02,  2.2133e-02,  3.1344e-04,  7.7298e-04,\n",
       "          2.8319e-03,  1.6534e-02, -1.3995e-02, -3.0309e-03, -7.7012e-03,\n",
       "         -1.4272e-02, -4.1553e-02, -2.1539e-02,  4.6655e-03,  2.1331e-02,\n",
       "         -1.6471e-02, -2.1849e-02, -1.4407e-02,  1.8234e-02,  8.6665e-03,\n",
       "         -1.3631e-02,  1.9765e-02,  1.8817e-02,  2.5099e-02, -2.7988e-02,\n",
       "         -2.3453e-02, -3.0763e-02,  1.3392e-02,  2.2643e-02,  9.5885e-03,\n",
       "          5.0973e-03, -1.6558e-02,  1.2129e-02,  1.1818e-02,  2.5356e-02,\n",
       "          1.5665e-02,  2.3567e-02,  4.5735e-03,  5.0610e-03, -1.9265e-02,\n",
       "          2.0034e-02, -3.3674e-02, -1.4066e-03,  2.3150e-02,  6.2532e-03,\n",
       "         -4.5224e-03, -1.3104e-02,  8.1912e-03,  1.7479e-02, -1.8691e-02,\n",
       "         -5.2074e-03, -4.3884e-03, -1.2851e-03,  7.3978e-03, -6.0713e-03,\n",
       "          1.1722e-04, -3.0504e-03,  2.3264e-02,  1.7146e-02,  4.1541e-03,\n",
       "          1.3140e-02,  5.1425e-03,  2.7020e-02, -1.2062e-02, -1.2017e-02,\n",
       "          2.5272e-02,  2.3024e-02, -2.5633e-02, -1.3126e-02,  5.3720e-02,\n",
       "          2.3981e-03,  7.4021e-03, -2.9056e-03,  9.2758e-03,  2.8783e-02,\n",
       "         -3.6333e-03, -1.1792e-02, -1.4263e-02, -7.5720e-03, -1.3069e-02,\n",
       "         -2.4572e-02, -4.1568e-02, -8.6786e-03,  2.0852e-02, -4.5282e-02,\n",
       "          1.9853e-02,  1.2391e-02, -3.4228e-02,  1.3024e-02,  1.3643e-02,\n",
       "          1.3979e-02, -1.5586e-02, -1.5886e-02,  1.7904e-02,  5.3982e-03,\n",
       "         -1.1689e-02,  5.3627e-03, -1.8528e-02, -2.3120e-02, -1.6950e-02,\n",
       "          2.3846e-02,  2.9799e-02,  2.3204e-02, -9.4592e-03, -3.5094e-03,\n",
       "          4.3273e-02,  3.8984e-03,  8.0566e-03, -1.7930e-02,  7.8530e-04,\n",
       "         -1.5997e-03,  1.1123e-03, -1.5174e-02, -6.8244e-03, -1.3689e-02,\n",
       "          3.1059e-02, -1.1526e-02, -5.4353e-03, -2.4259e-02, -1.9379e-02,\n",
       "          3.8781e-03,  1.2281e-02, -3.4299e-03, -2.0577e-02,  1.9500e-02,\n",
       "         -7.0231e-03,  2.7118e-02, -7.2127e-03,  7.9345e-05, -1.5752e-02,\n",
       "         -1.1276e-02, -8.7830e-03, -1.9959e-02, -6.2549e-03,  6.8846e-03,\n",
       "         -2.8446e-02,  4.2546e-02,  1.2308e-02, -1.2441e-02,  2.8579e-03,\n",
       "         -2.0877e-02,  5.1773e-03,  1.3445e-02, -1.7182e-02,  2.8857e-02,\n",
       "          1.6818e-02, -2.3724e-02, -3.1462e-02, -3.0008e-03,  9.6419e-03,\n",
       "         -2.1158e-03, -2.4040e-03,  1.1440e-02, -3.2867e-02,  2.1117e-02,\n",
       "          2.7463e-02, -1.6547e-02,  8.7154e-03, -2.0501e-02, -2.2113e-02,\n",
       "          7.2235e-03, -3.5970e-03, -5.1512e-03, -2.1526e-02,  5.1762e-03,\n",
       "         -1.7189e-02, -1.0810e-02,  5.4159e-02,  1.2009e-03, -1.2519e-03,\n",
       "         -4.2120e-02,  3.2377e-05, -8.7589e-04,  2.2460e-02, -1.5615e-02,\n",
       "         -2.5141e-02, -3.1538e-02, -3.7002e-02, -1.2149e-02, -2.6088e-02,\n",
       "         -3.6870e-02, -2.0927e-02,  7.5225e-03, -4.5327e-03,  1.7423e-02,\n",
       "          5.2422e-03,  2.7693e-02]])"
      ]
     },
     "execution_count": 15,
     "metadata": {},
     "output_type": "execute_result"
    }
   ],
   "source": [
    "emb = next(iter(pkl.load(open(\"/home/long/NeMo/oracle_vad/speaker_outputs/embeddings/voice2_segment_embeddings.pkl\", \"rb\")).values()))\n",
    "emb"
   ]
  },
  {
   "cell_type": "code",
   "execution_count": 21,
   "metadata": {},
   "outputs": [
    {
     "name": "stdout",
     "output_type": "stream",
     "text": [
      "['SPEAKER', 'an4_diarize_test', '1', '0.299', '2.471', '<NA>', '<NA>', 'speaker_1', '<NA>', '<NA>']\n",
      "['SPEAKER', 'an4_diarize_test', '1', '3.164', '1.983', '<NA>', '<NA>', 'speaker_0', '<NA>', '<NA>']\n"
     ]
    }
   ],
   "source": [
    "with open(\"./oracle_vad/pred_rttms/an4_diarize_test.rttm\", \"r\") as f:\n",
    "    lines = f.readlines()\n",
    "    for line in lines:\n",
    "        offset = line.split()[]"
   ]
  },
  {
   "cell_type": "code",
   "execution_count": null,
   "metadata": {},
   "outputs": [],
   "source": []
  },
  {
   "cell_type": "code",
   "execution_count": null,
   "metadata": {},
   "outputs": [],
   "source": []
  }
 ],
 "metadata": {
  "kernelspec": {
   "display_name": "AI",
   "language": "python",
   "name": "python3"
  },
  "language_info": {
   "codemirror_mode": {
    "name": "ipython",
    "version": 3
   },
   "file_extension": ".py",
   "mimetype": "text/x-python",
   "name": "python",
   "nbconvert_exporter": "python",
   "pygments_lexer": "ipython3",
   "version": "3.10.12"
  }
 },
 "nbformat": 4,
 "nbformat_minor": 2
}
